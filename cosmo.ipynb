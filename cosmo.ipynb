{
 "cells": [
  {
   "cell_type": "code",
   "execution_count": 75,
   "metadata": {},
   "outputs": [],
   "source": [
    "import matplotlib.pyplot as plt\n",
    "import numpy as np\n",
    "from astropy.constants import c, G, hbar, kpc\n",
    "from scipy.integrate import quad\n",
    "from sympy import solve, symbols, Eq\n",
    "from sympy.abc import i, j, k\n",
    "from sympy.physics.units import length, time, mass"
   ]
  },
  {
   "cell_type": "markdown",
   "metadata": {},
   "source": [
    "### Age and diameter of the universe"
   ]
  },
  {
   "cell_type": "code",
   "execution_count": 70,
   "metadata": {},
   "outputs": [
    {
     "name": "stdout",
     "output_type": "stream",
     "text": [
      "Age (Gyr): 13.8101772462598\n",
      "Age (s): 4.35517749638049e+17\n",
      "Diameter (Gpc): 28.830349858869567\n",
      "Diameter (cm): 8.896116422606665e+28\n"
     ]
    }
   ],
   "source": [
    "# Planck 2018 plik consts\n",
    "H0 = 67.36 # km s^-1 Mpc^-1\n",
    "H0_cgs = H0 * 1e3 / (kpc.value * 1e3) # s^-1\n",
    "omegam = 0.3153\n",
    "\n",
    "# From Friedmann equation\n",
    "def E(a: float) -> float:\n",
    "    return np.sqrt(omegam*a**-3 + (1-omegam))\n",
    "\n",
    "# Get age and diameter of universe\n",
    "age = 1/H0_cgs*quad(lambda a: 1/(a*E(a)), 0, 1)[0]\n",
    "Gyr = 60 * 60 * 24 * 365 * 1e9\n",
    "diameter = 2 * c.to(\"cm/s\").value / H0_cgs * quad(lambda a: 1/(a**2*E(a)), 0, 1)[0]\n",
    "\n",
    "print(f\"Age (Gyr): {age/Gyr}\")\n",
    "print(f\"Age (s): {age}\")\n",
    "print(f\"Diameter (Gpc): {(diameter / 1e2) / (kpc.value * 1e6)}\")\n",
    "print(f\"Diameter (cm): {diameter}\")"
   ]
  },
  {
   "cell_type": "markdown",
   "metadata": {},
   "source": [
    "### Natural units"
   ]
  },
  {
   "cell_type": "code",
   "execution_count": 68,
   "metadata": {},
   "outputs": [
    {
     "data": {
      "text/latex": [
       "$\\displaystyle t_\\mathrm{Pl} = \\frac{\\sqrt{G} \\sqrt{{\\hbar}}}{c^{\\frac{5}{2}}}$"
      ],
      "text/plain": [
       "Eq(t_\\mathrm{Pl}, sqrt(G)*sqrt({\\hbar})/c**(5/2))"
      ]
     },
     "metadata": {},
     "output_type": "display_data"
    },
    {
     "data": {
      "text/latex": [
       "$\\displaystyle \\ell_\\mathrm{Pl} = \\frac{\\sqrt{G} \\sqrt{{\\hbar}}}{c^{\\frac{3}{2}}}$"
      ],
      "text/plain": [
       "Eq(\\ell_\\mathrm{Pl}, sqrt(G)*sqrt({\\hbar})/c**(3/2))"
      ]
     },
     "execution_count": 68,
     "metadata": {},
     "output_type": "execute_result"
    }
   ],
   "source": [
    "# Define the dimensions\n",
    "L = length\n",
    "T = time\n",
    "M = mass\n",
    "L_dims = {L: 1, T: 0, M: 0}\n",
    "T_dims = {L: 0, T: 1, M: 0}\n",
    "\n",
    "# Constants and their dimensions\n",
    "c_sym, hbar_sym, G_sym = symbols(r\"c {\\hbar} G\")\n",
    "t_p_sym, l_p_sym = symbols(r\"t_\\mathrm{Pl} \\ell_\\mathrm{Pl}\")\n",
    "c_dims = {L: 1, T: -1, M: 0}\n",
    "hbar_dims = {L: 2, T: -1, M: 1}\n",
    "G_dims = {L: 3, M: -1, T: -2}\n",
    "\n",
    "# Solve for Planck time\n",
    "t_p_dims = solve([i*c_dims[x] + j*hbar_dims[x] + k*G_dims[x] - T_dims[x] for x in (L, T, M)], i, j, k, dict=True)[0]\n",
    "\n",
    "# Solve for Planck length\n",
    "l_p_dims = solve([i*c_dims[x] + j*hbar_dims[x] + k*G_dims[x] - L_dims[x] for x in (L, T, M)], i, j, k, dict=True)[0]\n",
    "\n",
    "display(Eq(t_p_sym, c_sym**t_p_dims[i] * hbar_sym**t_p_dims[j] * G_sym**t_p_dims[k]))\n",
    "Eq(l_p_sym, c_sym**l_p_dims[i] * hbar_sym**l_p_dims[j] * G_sym**l_p_dims[k])"
   ]
  },
  {
   "cell_type": "code",
   "execution_count": 69,
   "metadata": {},
   "outputs": [
    {
     "name": "stdout",
     "output_type": "stream",
     "text": [
      "Age (t_p): 8.02597973438387E+60\n",
      "Diameter (l_p): 5.46573463493201E+61\n"
     ]
    }
   ],
   "source": [
    "# Get the age and diameter of the universe in Planck units\n",
    "t_p_cgs = c.value**t_p_dims[i] * hbar.value**t_p_dims[j] * G.value**t_p_dims[k]\n",
    "l_p_cgs = c.value**l_p_dims[i] * hbar.value**l_p_dims[j] * G.value**l_p_dims[k] * 100\n",
    "print(f\"Age (t_p): {age / t_p_cgs}\")\n",
    "print(f\"Diameter (l_p): {diameter / l_p_cgs}\")"
   ]
  },
  {
   "cell_type": "markdown",
   "metadata": {},
   "source": [
    "### Composition of universe"
   ]
  },
  {
   "cell_type": "code",
   "execution_count": 79,
   "metadata": {},
   "outputs": [
    {
     "data": {
      "image/png": "[encoded data removed]",
      "text/plain": [
       "<Figure size 600x600 with 1 Axes>"
      ]
     },
     "metadata": {},
     "output_type": "display_data"
    }
   ],
   "source": [
    "# More Planck consts\n",
    "omegal = 0.6847\n",
    "ombh2 = 0.02237\n",
    "h = H0 / 100\n",
    "omegab = ombh2 / h**2\n",
    "omch2 = 0.1200\n",
    "omegac = omch2 / h**2\n",
    "\n",
    "labels = [\"Baryons\", \"Dark Matter\", \"Dark Energy\"]\n",
    "sizes = [omegab, omegac, omegal]\n",
    "\n",
    "fig, ax = plt.subplots(figsize=(6, 6))\n",
    "ax.pie(sizes, labels=labels, autopct=\"%1.1f%%\")\n",
    "fig.savefig(\"universal_pie.pdf\", bbox_inches=\"tight\")"
   ]
  },
  {
   "cell_type": "code",
   "execution_count": null,
   "metadata": {},
   "outputs": [],
   "source": []
  }
 ],
 "metadata": {
  "kernelspec": {
   "display_name": "Teaching",
   "language": "python",
   "name": "python3"
  },
  "language_info": {
   "codemirror_mode": {
    "name": "ipython",
    "version": 3
   },
   "file_extension": ".py",
   "mimetype": "text/x-python",
   "name": "python",
   "nbconvert_exporter": "python",
   "pygments_lexer": "ipython3",
   "version": "3.13.0"
  }
 },
 "nbformat": 4,
 "nbformat_minor": 2
}
